{
  "nbformat": 4,
  "nbformat_minor": 0,
  "metadata": {
    "colab": {
      "provenance": [],
      "authorship_tag": "ABX9TyMNXy0vQJUlWQIRz+7Q9MDE",
      "include_colab_link": true
    },
    "kernelspec": {
      "name": "python3",
      "display_name": "Python 3"
    },
    "language_info": {
      "name": "python"
    }
  },
  "cells": [
    {
      "cell_type": "markdown",
      "metadata": {
        "id": "view-in-github",
        "colab_type": "text"
      },
      "source": [
        "<a href=\"https://colab.research.google.com/github/nsk20/CMPE257-Fall23-ShyamKumar-Nalluri/blob/take-home-exam/Task_2.ipynb\" target=\"_parent\"><img src=\"https://colab.research.google.com/assets/colab-badge.svg\" alt=\"Open In Colab\"/></a>"
      ]
    },
    {
      "cell_type": "code",
      "source": [
        "import pandas as pd\n",
        "from sklearn.model_selection import train_test_split\n",
        "from sklearn.preprocessing import LabelEncoder\n",
        "from sklearn.linear_model import LogisticRegression\n",
        "from sklearn.tree import DecisionTreeClassifier\n",
        "from sklearn.ensemble import RandomForestClassifier\n",
        "from sklearn.svm import SVC\n",
        "from sklearn.neighbors import KNeighborsClassifier\n",
        "from sklearn.neural_network import MLPClassifier\n",
        "from sklearn.metrics import accuracy_score, precision_score, recall_score, f1_score"
      ],
      "metadata": {
        "id": "_Qfdd7-lacOv"
      },
      "execution_count": 20,
      "outputs": []
    },
    {
      "cell_type": "markdown",
      "source": [
        "SJSU ID - 016421756"
      ],
      "metadata": {
        "id": "-rEHXkuebRcM"
      }
    },
    {
      "cell_type": "code",
      "execution_count": 21,
      "metadata": {
        "id": "200OU8oLWw_2"
      },
      "outputs": [],
      "source": [
        "# Load the dataset\n",
        "dataset = pd.read_csv('breast_cancer_dataset_preprocessed.csv')\n",
        "\n",
        "# Encode the 'y' column (Malignant: 1, Benign: 0)\n",
        "label_encoder = LabelEncoder()\n",
        "dataset['y'] = label_encoder.fit_transform(dataset['y'])\n",
        "\n",
        "# Separate features (X) and target variable (y)\n",
        "X = dataset.iloc[:, :-1]\n",
        "y = dataset.iloc[:, -1]\n",
        "\n",
        "# Split the dataset into training and testing sets\n",
        "X_train, X_test, y_train, y_test = train_test_split(X, y, test_size=0.2, random_state=756)"
      ]
    },
    {
      "cell_type": "code",
      "source": [
        "# Initialize SVM models with different kernels\n",
        "svm_models = {\n",
        "    'Linear SVM': SVC(kernel='linear', random_state=756),\n",
        "    'Poly SVM': SVC(kernel='poly', random_state=756),\n",
        "    'RBF SVM': SVC(kernel='rbf', random_state=756),\n",
        "}\n",
        "\n",
        "# Combine all models\n",
        "models = {\n",
        "    'Logistic Regression': LogisticRegression(),\n",
        "    'Decision Tree': DecisionTreeClassifier(),\n",
        "    'Random Forest': RandomForestClassifier(),\n",
        "    'KNN': KNeighborsClassifier(),\n",
        "    'Neural Network': MLPClassifier(random_state=756),\n",
        "    **svm_models\n",
        "}"
      ],
      "metadata": {
        "id": "ybQtbxwSakRB"
      },
      "execution_count": 22,
      "outputs": []
    },
    {
      "cell_type": "code",
      "source": [
        "# Train and evaluate models\n",
        "results = {}\n",
        "for model_name, model in models.items():\n",
        "    model.fit(X_train, y_train)\n",
        "    y_pred = model.predict(X_test)\n",
        "\n",
        "    accuracy = accuracy_score(y_test, y_pred)\n",
        "    precision = precision_score(y_test, y_pred)\n",
        "    recall = recall_score(y_test, y_pred)\n",
        "    f1 = f1_score(y_test, y_pred)\n",
        "\n",
        "    results[model_name] = {'Accuracy': accuracy, 'Precision': precision, 'Recall': recall, 'F1 Score': f1}\n"
      ],
      "metadata": {
        "colab": {
          "base_uri": "https://localhost:8080/"
        },
        "id": "B3ZaNcMLak8A",
        "outputId": "a437db66-49a0-4574-ccb3-a93c787c47f6"
      },
      "execution_count": 23,
      "outputs": [
        {
          "output_type": "stream",
          "name": "stderr",
          "text": [
            "/usr/local/lib/python3.10/dist-packages/sklearn/neural_network/_multilayer_perceptron.py:686: ConvergenceWarning: Stochastic Optimizer: Maximum iterations (200) reached and the optimization hasn't converged yet.\n",
            "  warnings.warn(\n"
          ]
        }
      ]
    },
    {
      "cell_type": "code",
      "source": [
        "# Find the best performing model based on accuracy\n",
        "best_model = max(results, key=lambda k: results[k]['Accuracy'])\n",
        "\n",
        "# Print results\n",
        "print(\"Performance Metrics:\")\n",
        "print(\"{:<20} {:<10} {:<10} {:<10} {:<10}\".format('Model', 'Accuracy', 'Precision', 'Recall', 'F1 Score'))\n",
        "for model_name, metrics in results.items():\n",
        "    print(\"{:<20} {:<10.4f} {:<10.4f} {:<10.4f} {:<10.4f}\".format(model_name, metrics['Accuracy'], metrics['Precision'], metrics['Recall'], metrics['F1 Score']))\n",
        "\n",
        "print(\"\\nBest Performing Model: {}\".format(best_model))"
      ],
      "metadata": {
        "colab": {
          "base_uri": "https://localhost:8080/"
        },
        "id": "rCUOIDANarcq",
        "outputId": "2f95a281-609e-4877-ec81-55c0833d347f"
      },
      "execution_count": 24,
      "outputs": [
        {
          "output_type": "stream",
          "name": "stdout",
          "text": [
            "Performance Metrics:\n",
            "Model                Accuracy   Precision  Recall     F1 Score  \n",
            "Logistic Regression  1.0000     1.0000     1.0000     1.0000    \n",
            "Decision Tree        0.9091     0.8214     0.9200     0.8679    \n",
            "Random Forest        0.9481     0.8621     1.0000     0.9259    \n",
            "KNN                  0.9221     0.9130     0.8400     0.8750    \n",
            "Neural Network       0.9740     0.9259     1.0000     0.9615    \n",
            "Linear SVM           0.9610     0.8929     1.0000     0.9434    \n",
            "Poly SVM             0.9091     1.0000     0.7200     0.8372    \n",
            "RBF SVM              0.9481     0.9200     0.9200     0.9200    \n",
            "\n",
            "Best Performing Model: Logistic Regression\n"
          ]
        }
      ]
    },
    {
      "cell_type": "markdown",
      "source": [
        "Logistic regression model achieved perfect accuracy (1.0000) as well as perfect precision, recall, and F1 score. Which may indicate overfitting, potential data imbalance or leakage, and limited capability to capture nonlinear relationships."
      ],
      "metadata": {
        "id": "za9fVtu8X6KI"
      }
    },
    {
      "cell_type": "markdown",
      "source": [
        "For optimal model selection, it is advisable to choose the Neural Network and Linear SVM, as they exhibit strong performance across multiple metrics, aligning well with specific task goals and requirements.\n",
        "\n",
        "The other models also performed reasonably well, but the Neural Network outperformed them in terms of accuracy and overall metrics."
      ],
      "metadata": {
        "id": "jjNoAuJtYSxm"
      }
    }
  ]
}